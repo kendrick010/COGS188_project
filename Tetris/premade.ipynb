{
 "cells": [
  {
   "cell_type": "code",
   "execution_count": 1,
   "metadata": {},
   "outputs": [],
   "source": [
    "import gym_simpletetris\n",
    "import gym"
   ]
  },
  {
   "cell_type": "code",
   "execution_count": 2,
   "metadata": {},
   "outputs": [
    {
     "name": "stdout",
     "output_type": "stream",
     "text": [
      "WARNING:tensorflow:From c:\\Users\\erics\\anaconda3\\Lib\\site-packages\\keras\\src\\losses.py:2976: The name tf.losses.sparse_softmax_cross_entropy is deprecated. Please use tf.compat.v1.losses.sparse_softmax_cross_entropy instead.\n",
      "\n"
     ]
    }
   ],
   "source": [
    "from stable_baselines3 import DQN\n",
    "from stable_baselines3.common.monitor import Monitor"
   ]
  },
  {
   "cell_type": "code",
   "execution_count": 3,
   "metadata": {},
   "outputs": [],
   "source": [
    "import numpy as np"
   ]
  },
  {
   "cell_type": "code",
   "execution_count": 7,
   "metadata": {},
   "outputs": [],
   "source": [
    "num_steps = 500000"
   ]
  },
  {
   "cell_type": "code",
   "execution_count": 5,
   "metadata": {},
   "outputs": [],
   "source": [
    "from stable_baselines3.common.callbacks import BaseCallback"
   ]
  },
  {
   "cell_type": "code",
   "execution_count": 6,
   "metadata": {},
   "outputs": [],
   "source": [
    "class RewardLoggerCallback(BaseCallback):\n",
    "    def __init__(self, verbose=0):\n",
    "        super(RewardLoggerCallback, self).__init__(verbose)\n",
    "        self.episode_rewards = []\n",
    "\n",
    "    def _on_step(self) -> bool:\n",
    "        done = self.locals['dones']\n",
    "        reward = self.locals['rewards']\n",
    "\n",
    "        if done:\n",
    "            episode_reward = np.sum(reward)\n",
    "            self.episode_rewards.append(episode_reward)\n",
    "            if self.verbose > 0:\n",
    "                print(f\"Episode Reward: {episode_reward}\")\n",
    "\n",
    "        return True\n",
    "\n",
    "    def _on_training_end(self) -> None:\n",
    "        np.save(\"episode_rewards.npy\", self.episode_rewards)  # Save the rewards to a file\n",
    "\n",
    "# partial credits to GPT + stable-baseline-3 documentation"
   ]
  },
  {
   "cell_type": "markdown",
   "metadata": {},
   "source": [
    "Training the model:"
   ]
  },
  {
   "cell_type": "code",
   "execution_count": 8,
   "metadata": {},
   "outputs": [
    {
     "name": "stderr",
     "output_type": "stream",
     "text": [
      "c:\\Users\\erics\\anaconda3\\Lib\\site-packages\\gym\\envs\\registration.py:627: UserWarning: \u001b[33mWARN: The environment creator metadata doesn't include `render_modes`, contains: ['render.modes', 'render_fps']\u001b[0m\n",
      "  logger.warn(\n",
      "c:\\Users\\erics\\anaconda3\\Lib\\site-packages\\gym\\utils\\passive_env_checker.py:31: UserWarning: \u001b[33mWARN: A Box observation space has an unconventional shape (neither an image, nor a 1D vector). We recommend flattening the observation to have only a 1D vector or use a custom policy to properly process the data. Actual observation shape: (10, 20)\u001b[0m\n",
      "  logger.warn(\n",
      "c:\\Users\\erics\\anaconda3\\Lib\\site-packages\\stable_baselines3\\common\\vec_env\\patch_gym.py:49: UserWarning: You provided an OpenAI Gym environment. We strongly recommend transitioning to Gymnasium environments. Stable-Baselines3 is automatically wrapping your environments in a compatibility layer, which could potentially cause issues.\n",
      "  warnings.warn(\n",
      "c:\\Users\\erics\\anaconda3\\Lib\\site-packages\\gym\\utils\\passive_env_checker.py:174: UserWarning: \u001b[33mWARN: Future gym versions will require that `Env.reset` can be passed a `seed` instead of using `Env.seed` for resetting the environment random number generator.\u001b[0m\n",
      "  logger.warn(\n",
      "c:\\Users\\erics\\anaconda3\\Lib\\site-packages\\gym\\utils\\passive_env_checker.py:187: UserWarning: \u001b[33mWARN: Future gym versions will require that `Env.reset` can be passed `options` to allow the environment initialisation to be passed additional information.\u001b[0m\n",
      "  logger.warn(\n",
      "c:\\Users\\erics\\anaconda3\\Lib\\site-packages\\gym\\utils\\passive_env_checker.py:195: UserWarning: \u001b[33mWARN: The result returned by `env.reset()` was not a tuple of the form `(obs, info)`, where `obs` is a observation and `info` is a dictionary containing additional information. Actual type: `<class 'numpy.ndarray'>`\u001b[0m\n",
      "  logger.warn(\n",
      "c:\\Users\\erics\\anaconda3\\Lib\\site-packages\\gym\\utils\\passive_env_checker.py:219: DeprecationWarning: \u001b[33mWARN: Core environment is written in old step API which returns one bool instead of two. It is recommended to rewrite the environment with new step API. \u001b[0m\n",
      "  logger.deprecation(\n",
      "c:\\Users\\erics\\anaconda3\\Lib\\site-packages\\gym\\utils\\passive_env_checker.py:225: DeprecationWarning: `np.bool8` is a deprecated alias for `np.bool_`.  (Deprecated NumPy 1.24)\n",
      "  if not isinstance(done, (bool, np.bool8)):\n"
     ]
    }
   ],
   "source": [
    "# Tetris DQN\n",
    "env = gym.make('SimpleTetris-v0',\n",
    "               height=20,                       # Height of Tetris grid\n",
    "               width=10,                        # Width of Tetris grid\n",
    "               obs_type='ram',                  # ram | grayscale | rgb\n",
    "               extend_dims=False,               # Extend ram or grayscale dimensions\n",
    "               render_mode='rgb_array',         # Unused parameter\n",
    "               reward_step=True,               # See reward table\n",
    "               penalise_height=False,           # See reward table\n",
    "               penalise_height_increase=True,  # See reward table\n",
    "               advanced_clears=True,           # See reward table\n",
    "               high_scoring=True,              # See reward table\n",
    "               penalise_holes=False,            # See reward table\n",
    "               penalise_holes_increase=True,   # See reward table\n",
    "               lock_delay=0,                    # Lock delay as number of steps\n",
    "               step_reset=False                 # Reset lock delay on step downwards\n",
    "               )\n",
    "callback = RewardLoggerCallback(verbose=0)\n",
    "model = DQN('MlpPolicy', env, verbose=0)\n",
    "model.learn(total_timesteps=num_steps, callback=callback)\n",
    "model.save(f'tetris')\n",
    "del model\n",
    "env.close()"
   ]
  },
  {
   "cell_type": "markdown",
   "metadata": {},
   "source": [
    "Loading and showing the rewards torwards the end of the model's convergence:"
   ]
  },
  {
   "cell_type": "code",
   "execution_count": 18,
   "metadata": {},
   "outputs": [
    {
     "name": "stderr",
     "output_type": "stream",
     "text": [
      "c:\\Users\\erics\\anaconda3\\Lib\\site-packages\\gym\\envs\\registration.py:627: UserWarning: \u001b[33mWARN: The environment creator metadata doesn't include `render_modes`, contains: ['render.modes', 'render_fps']\u001b[0m\n",
      "  logger.warn(\n",
      "c:\\Users\\erics\\anaconda3\\Lib\\site-packages\\gym\\utils\\passive_env_checker.py:31: UserWarning: \u001b[33mWARN: A Box observation space has an unconventional shape (neither an image, nor a 1D vector). We recommend flattening the observation to have only a 1D vector or use a custom policy to properly process the data. Actual observation shape: (10, 20)\u001b[0m\n",
      "  logger.warn(\n"
     ]
    }
   ],
   "source": [
    "env = gym.make('SimpleTetris-v0',\n",
    "               height=20,                       # Height of Tetris grid\n",
    "               width=10,                        # Width of Tetris grid\n",
    "               obs_type='ram',                  # ram | grayscale | rgb\n",
    "               extend_dims=False,               # Extend ram or grayscale dimensions\n",
    "               render_mode='rgb_array',         # Unused parameter\n",
    "               reward_step=True,               # See reward table\n",
    "               penalise_height=False,           # See reward table\n",
    "               penalise_height_increase=True,  # See reward table\n",
    "               advanced_clears=True,           # See reward table\n",
    "               high_scoring=True,              # See reward table\n",
    "               penalise_holes=False,            # See reward table\n",
    "               penalise_holes_increase=True,   # See reward table\n",
    "               lock_delay=0,                    # Lock delay as number of steps\n",
    "               step_reset=False                 # Reset lock delay on step downwards\n",
    "               )"
   ]
  },
  {
   "cell_type": "code",
   "execution_count": 19,
   "metadata": {},
   "outputs": [
    {
     "name": "stderr",
     "output_type": "stream",
     "text": [
      "c:\\Users\\erics\\anaconda3\\Lib\\site-packages\\stable_baselines3\\common\\vec_env\\patch_gym.py:49: UserWarning: You provided an OpenAI Gym environment. We strongly recommend transitioning to Gymnasium environments. Stable-Baselines3 is automatically wrapping your environments in a compatibility layer, which could potentially cause issues.\n",
      "  warnings.warn(\n"
     ]
    }
   ],
   "source": [
    "model = DQN.load(\"tetris.zip\", env=env)"
   ]
  },
  {
   "cell_type": "code",
   "execution_count": 20,
   "metadata": {},
   "outputs": [],
   "source": [
    "from tqdm import tqdm"
   ]
  },
  {
   "cell_type": "code",
   "execution_count": 21,
   "metadata": {},
   "outputs": [
    {
     "name": "stderr",
     "output_type": "stream",
     "text": [
      "c:\\Users\\erics\\anaconda3\\Lib\\site-packages\\gym\\utils\\passive_env_checker.py:174: UserWarning: \u001b[33mWARN: Future gym versions will require that `Env.reset` can be passed a `seed` instead of using `Env.seed` for resetting the environment random number generator.\u001b[0m\n",
      "  logger.warn(\n",
      "c:\\Users\\erics\\anaconda3\\Lib\\site-packages\\gym\\utils\\passive_env_checker.py:187: UserWarning: \u001b[33mWARN: Future gym versions will require that `Env.reset` can be passed `options` to allow the environment initialisation to be passed additional information.\u001b[0m\n",
      "  logger.warn(\n",
      "c:\\Users\\erics\\anaconda3\\Lib\\site-packages\\gym\\utils\\passive_env_checker.py:195: UserWarning: \u001b[33mWARN: The result returned by `env.reset()` was not a tuple of the form `(obs, info)`, where `obs` is a observation and `info` is a dictionary containing additional information. Actual type: `<class 'numpy.ndarray'>`\u001b[0m\n",
      "  logger.warn(\n",
      "  0%|          | 0/1000 [00:00<?, ?it/s]c:\\Users\\erics\\anaconda3\\Lib\\site-packages\\gym\\utils\\passive_env_checker.py:219: DeprecationWarning: \u001b[33mWARN: Core environment is written in old step API which returns one bool instead of two. It is recommended to rewrite the environment with new step API. \u001b[0m\n",
      "  logger.deprecation(\n",
      "c:\\Users\\erics\\anaconda3\\Lib\\site-packages\\gym\\utils\\passive_env_checker.py:225: DeprecationWarning: `np.bool8` is a deprecated alias for `np.bool_`.  (Deprecated NumPy 1.24)\n",
      "  if not isinstance(done, (bool, np.bool8)):\n",
      "100%|██████████| 1000/1000 [02:07<00:00,  7.84it/s]\n"
     ]
    }
   ],
   "source": [
    "# Evaluate the agent\n",
    "vec_env = model.get_env()\n",
    "obs = vec_env.reset()\n",
    "get_rewards = []\n",
    "num_episodes = 1000\n",
    "steps = 0\n",
    "for i in tqdm(range(num_episodes)):\n",
    "    done = False\n",
    "    curr_rewards = 0\n",
    "    while not done:\n",
    "        action, _states = model.predict(obs, deterministic=True)\n",
    "        obs, rewards, dones, info = vec_env.step(action)\n",
    "        done = dones\n",
    "        curr_rewards += rewards\n",
    "\n",
    "    get_rewards.append(curr_rewards)"
   ]
  },
  {
   "cell_type": "code",
   "execution_count": 22,
   "metadata": {},
   "outputs": [],
   "source": [
    "import matplotlib.pyplot as plt"
   ]
  },
  {
   "cell_type": "code",
   "execution_count": 23,
   "metadata": {},
   "outputs": [
    {
     "data": {
      "text/plain": [
       "[<matplotlib.lines.Line2D at 0x1fe3a129cd0>]"
      ]
     },
     "execution_count": 23,
     "metadata": {},
     "output_type": "execute_result"
    },
    {
     "data": {
      "image/png": "[encoded data removed]",
      "text/plain": [
       "<Figure size 640x480 with 1 Axes>"
      ]
     },
     "metadata": {},
     "output_type": "display_data"
    }
   ],
   "source": [
    "plt.plot(range(len(get_rewards)), get_rewards)"
   ]
  },
  {
   "cell_type": "code",
   "execution_count": null,
   "metadata": {},
   "outputs": [],
   "source": [
    "import os"
   ]
  },
  {
   "cell_type": "code",
   "execution_count": null,
   "metadata": {},
   "outputs": [],
   "source": [
    "model = DQN.load(\"tetris_3000000.zip\", env=env)"
   ]
  },
  {
   "cell_type": "code",
   "execution_count": null,
   "metadata": {},
   "outputs": [],
   "source": [
    "import os\n",
    "import imageio\n",
    "import numpy as np\n",
    "from PIL import Image\n",
    "import PIL.ImageDraw as ImageDraw\n",
    "import matplotlib.pyplot as plt  "
   ]
  },
  {
   "cell_type": "code",
   "execution_count": null,
   "metadata": {},
   "outputs": [],
   "source": [
    "env = gym.make('SimpleTetris-v0',\n",
    "               height=20,                       # Height of Tetris grid\n",
    "               width=10,                        # Width of Tetris grid\n",
    "               obs_type='ram',                  # ram | grayscale | rgb\n",
    "               extend_dims=False,               # Extend ram or grayscale dimensions\n",
    "               render_mode='rgb_array',         # Unused parameter\n",
    "               reward_step=True,               # See reward table\n",
    "               penalise_height=False,           # See reward table\n",
    "               penalise_height_increase=True,  # See reward table\n",
    "               advanced_clears=True,           # See reward table\n",
    "               high_scoring=False,              # See reward table\n",
    "               penalise_holes=False,            # See reward table\n",
    "               penalise_holes_increase=True,   # See reward table\n",
    "               lock_delay=0,                    # Lock delay as number of steps\n",
    "               step_reset=False                 # Reset lock delay on step downwards\n",
    "               )"
   ]
  },
  {
   "cell_type": "code",
   "execution_count": null,
   "metadata": {},
   "outputs": [],
   "source": [
    "model = DQN.load(\"tetris_3000000.zip\", env=env)"
   ]
  }
 ],
 "metadata": {
  "kernelspec": {
   "display_name": "base",
   "language": "python",
   "name": "python3"
  },
  "language_info": {
   "codemirror_mode": {
    "name": "ipython",
    "version": 3
   },
   "file_extension": ".py",
   "mimetype": "text/x-python",
   "name": "python",
   "nbconvert_exporter": "python",
   "pygments_lexer": "ipython3",
   "version": "3.11.5"
  }
 },
 "nbformat": 4,
 "nbformat_minor": 2
}
